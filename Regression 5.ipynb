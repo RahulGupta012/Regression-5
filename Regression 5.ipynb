{
 "cells": [
  {
   "cell_type": "markdown",
   "id": "58cd0b81-1555-4b34-94cc-afa6f20d03d9",
   "metadata": {},
   "source": [
    "# Regression 05"
   ]
  },
  {
   "cell_type": "markdown",
   "id": "70260dfa-7252-4c14-9228-884ebcadce3f",
   "metadata": {},
   "source": [
    "________________________________________________________________________________________________________________"
   ]
  },
  {
   "cell_type": "markdown",
   "id": "03aa9b1e-1bd5-4189-b938-5c2f090a5ec3",
   "metadata": {},
   "source": [
    "# Q. What is Elastic Net Regression and how does it differ from other regression techniques?"
   ]
  },
  {
   "cell_type": "markdown",
   "id": "854a349e-0023-4174-ba0e-8f74d66fe9f4",
   "metadata": {},
   "source": [
    "Elastic Net Regression is basically the combination of Ridge Regression and lasso Regression. It is a regularized regression technique that is used to deal with the problems of multicollinearity and overfitting. Elastic Net Regression is used for the case , when there are many independent featurers exist in data set.It diffrense from the liner regressions as it has a wide area of features....ie..overfitting reduction and feature slecetion. It commanly used for high daimentional data."
   ]
  },
  {
   "cell_type": "markdown",
   "id": "fd6a5166-a14d-4b87-ab23-25e78b423322",
   "metadata": {},
   "source": [
    "# Q2. How do you choose the optimal values of the regularization parameters for Elastic Net Regression?"
   ]
  },
  {
   "cell_type": "markdown",
   "id": "a4afa95b-b307-4899-b01d-ad94f50ec346",
   "metadata": {},
   "source": [
    "By the test of calculation of different values of lambda and alphav(by puting it to farmula) , we can reach at a optimal value of elastic net regression. For doing such opretions there are many lib as sklearn and we can do it by the carat workflow also. it check 10 value of alpha and lambda to decide the optimal value of regulization perameter for Elastic net regression\n"
   ]
  },
  {
   "cell_type": "markdown",
   "id": "0b22f982-f3c0-4155-ba46-d38e37df88e5",
   "metadata": {},
   "source": [
    "# Q3. What are the advantages and disadvantages of Elastic Net Regression?"
   ]
  },
  {
   "cell_type": "markdown",
   "id": "53499cb7-da09-4de1-a059-244e811cbc2d",
   "metadata": {},
   "source": [
    "ADVANTAGES\n",
    "\n",
    "Elastic net regression is possessed the both L1 and L2 regulazations. By which it always tend to shirnk the coffcient value of the varibale towards zero. It do the feature selection and when the feature are fewer the overfiiting of the model is also be controlled. It is clear that Elastic Net Regression has both as ridge and lasso regression..so that it is very usefull in feature selection as well as in overfitting .\n",
    "\n",
    "\n",
    "DISADVANTAGES\n",
    "\n",
    "Selection of Parameters: The selection of tuning parameters (alpha and lambda) can be tricky, as there is no definitive way to choose these parameters.\n",
    "\n",
    "Computetionally intensive : as in large data set it feel bulkey."
   ]
  },
  {
   "cell_type": "markdown",
   "id": "76119163-104a-4200-808b-ccb083e981e9",
   "metadata": {},
   "source": [
    "# Q4. What are some common use cases for Elastic Net Regression?"
   ]
  },
  {
   "cell_type": "markdown",
   "id": "7d0757fb-b7ef-4fa9-a299-a4d27fca72e3",
   "metadata": {},
   "source": [
    "There are some common use cases of the Elastic Net Regression;\n",
    "\n",
    "Finance: Elastic Net Regression is used to build models for predicting stock prices and other financial variables.\n",
    "\n",
    "Image processing: Elastic Net Regression is used to denoise images\n",
    "\n",
    "Marketing: Elastic Net Regression is used to identify the most important factors that influence customer behavior and preferences."
   ]
  },
  {
   "cell_type": "markdown",
   "id": "5e8b7520-8431-479c-bc14-583744443702",
   "metadata": {},
   "source": [
    "# Q5. How do you interpret the coefficients in Elastic Net Regression?"
   ]
  },
  {
   "cell_type": "markdown",
   "id": "02ee3ada-df41-435d-b4b1-6375f7ef7d93",
   "metadata": {},
   "source": [
    "The coefficients of elastic net regression represent the linear relationship between the features and the target variable. The larger the absolute value of a coefficient, the stronger the effect of the corresponding feature on the target variable. "
   ]
  },
  {
   "cell_type": "markdown",
   "id": "a8bc80e1-18f2-423a-8261-f038c64073ca",
   "metadata": {},
   "source": [
    "# Q6. How do you use Elastic Net Regression for feature selection?"
   ]
  },
  {
   "cell_type": "markdown",
   "id": "2722118e-2e56-488c-8cf8-1efc388e56f7",
   "metadata": {},
   "source": [
    "In elastic net Regression , there is a L2 Regulazation , which always want to shrink the cofficient of the varible towards zero ... and eliminating those independent features which are very-low correleted to the dependent feature. This lasso regression which is presenty in it always help for feature selection as well as in reducing the overfitting of the model."
   ]
  },
  {
   "cell_type": "markdown",
   "id": "672b5a87-cabd-49dd-a5d5-93a345840082",
   "metadata": {},
   "source": [
    "# Q7. What is the purpose of pickling a model in machine learning?"
   ]
  },
  {
   "cell_type": "markdown",
   "id": "e2a4d870-3b11-4e9a-94e6-ba4a3344a737",
   "metadata": {},
   "source": [
    "In the pickling we are just save the whole coede or functuions in a formate..which is reusable. and we can share it with others also.\n"
   ]
  }
 ],
 "metadata": {
  "kernelspec": {
   "display_name": "Python 3 (ipykernel)",
   "language": "python",
   "name": "python3"
  },
  "language_info": {
   "codemirror_mode": {
    "name": "ipython",
    "version": 3
   },
   "file_extension": ".py",
   "mimetype": "text/x-python",
   "name": "python",
   "nbconvert_exporter": "python",
   "pygments_lexer": "ipython3",
   "version": "3.10.8"
  }
 },
 "nbformat": 4,
 "nbformat_minor": 5
}
